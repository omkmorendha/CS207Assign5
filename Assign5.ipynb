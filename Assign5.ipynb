{
  "nbformat": 4,
  "nbformat_minor": 0,
  "metadata": {
    "colab": {
      "name": "Assign5.ipynb",
      "provenance": [],
      "authorship_tag": "ABX9TyOLZbAbm/n8Ee7I1+PhbHak",
      "include_colab_link": true
    },
    "kernelspec": {
      "name": "python3",
      "display_name": "Python 3"
    },
    "language_info": {
      "name": "python"
    }
  },
  "cells": [
    {
      "cell_type": "markdown",
      "metadata": {
        "id": "view-in-github",
        "colab_type": "text"
      },
      "source": [
        "<a href=\"https://colab.research.google.com/github/omkmorendha/CS207Assign5/blob/main/Assign5.ipynb\" target=\"_parent\"><img src=\"https://colab.research.google.com/assets/colab-badge.svg\" alt=\"Open In Colab\"/></a>"
      ]
    },
    {
      "cell_type": "code",
      "metadata": {
        "id": "o0KdfKo8VTJ8"
      },
      "source": [
        "import math\n",
        "\n",
        "class shape:\n",
        "  pass\n",
        "\n",
        "class circle(shape):\n",
        "  def __init__(self, rad):\n",
        "    self.rad = rad\n",
        "  \n",
        "  def area(self):\n",
        "    self.area = math.pi * (self.rad ** 2)\n",
        "    return self.area\n",
        "\n",
        "class rectangle(shape):\n",
        "  def __init__(self, l, b):\n",
        "    self.l = l\n",
        "    self.b = b\n",
        "  \n",
        "  def area(self):\n",
        "    self.area = l*b\n",
        "    return self.area"
      ],
      "execution_count": 1,
      "outputs": []
    },
    {
      "cell_type": "code",
      "metadata": {
        "colab": {
          "base_uri": "https://localhost:8080/"
        },
        "id": "KdGMUvPrWj4p",
        "outputId": "35c34c91-f298-4532-b8d9-aec60741c363"
      },
      "source": [
        "class travel:\n",
        "  def __init__(self, np, d, mot):\n",
        "    self.__np = np\n",
        "    self.d = d\n",
        "    self.mot = mot\n",
        "\n",
        "  def number(self):\n",
        "    return self.__np\n",
        "\n",
        "class train(travel):\n",
        "  def __init__(self, np, d):\n",
        "    travel.__init__(self, np, d, \"Train\")\n",
        "\n",
        "  def cost(self):\n",
        "    self.cost = 60 * travel.number(self) \n",
        "    return self.cost\n",
        "\n",
        "class bus(travel):\n",
        "  def __init__(self, np, d):\n",
        "    travel.__init__(self, np, d, \"Bus\")\n",
        "\n",
        "  def cost(self):\n",
        "    self.cost = 100 * travel.number(self) \n",
        "    return self.cost\n",
        "\n",
        "a1 = train(50, 30)\n",
        "print(a1.cost())\n",
        "a2 = bus(50, 30)\n",
        "print(a2.cost())"
      ],
      "execution_count": 8,
      "outputs": [
        {
          "output_type": "stream",
          "name": "stdout",
          "text": [
            "3000\n",
            "5000\n"
          ]
        }
      ]
    },
    {
      "cell_type": "code",
      "metadata": {
        "colab": {
          "base_uri": "https://localhost:8080/"
        },
        "id": "rz9KUEDRYQtJ",
        "outputId": "fc23cd81-f34e-43c6-da39-df268c319cec"
      },
      "source": [
        "class car:\n",
        "  def __init__(self, model):\n",
        "    self.mn = model\n",
        "\n",
        "def swp(c1, c2):\n",
        "  c1.mn, c2.mn = c2.mn, c1.mn\n",
        "\n",
        "c1 = car('A')\n",
        "c2 = car('B')\n",
        "swp(c1, c2)\n",
        "print(c1.mn, \"  \", c2.mn)"
      ],
      "execution_count": 12,
      "outputs": [
        {
          "output_type": "stream",
          "name": "stdout",
          "text": [
            "B    A\n"
          ]
        }
      ]
    }
  ]
}